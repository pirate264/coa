{
 "cells": [
  {
   "cell_type": "code",
   "execution_count": 3,
   "id": "9ad36585-4794-433e-a314-c64c9897f968",
   "metadata": {},
   "outputs": [],
   "source": [
    "import torch\n",
    "import numpy as np\n",
    "import tensorflow as tf"
   ]
  },
  {
   "cell_type": "code",
   "execution_count": 5,
   "id": "154b3a4f-25f0-4cd5-8dbb-f00516cc9f8e",
   "metadata": {},
   "outputs": [
    {
     "name": "stdout",
     "output_type": "stream",
     "text": [
      "1D Tensor: tensor([1, 2, 3, 4])\n"
     ]
    }
   ],
   "source": [
    "t1 = torch.tensor([1, 2, 3, 4])\n",
    "print(\"1D Tensor:\", t1)"
   ]
  },
  {
   "cell_type": "code",
   "execution_count": 7,
   "id": "7d05f497-8a22-4883-9d9d-6274921a06e1",
   "metadata": {},
   "outputs": [
    {
     "name": "stdout",
     "output_type": "stream",
     "text": [
      "\n",
      "Random 3x3 Tensor:\n",
      " tensor([[0.2961, 0.3649, 0.8707],\n",
      "        [0.4975, 0.0202, 0.4012],\n",
      "        [0.4706, 0.3331, 0.7744]])\n"
     ]
    }
   ],
   "source": [
    "t2 = torch.rand((3, 3))\n",
    "print(\"\\nRandom 3x3 Tensor:\\n\", t2)"
   ]
  },
  {
   "cell_type": "code",
   "execution_count": 9,
   "id": "65956dde-1761-47f4-9e75-6e8e8dd56327",
   "metadata": {},
   "outputs": [
    {
     "name": "stdout",
     "output_type": "stream",
     "text": [
      "\n",
      "2x5 Zeros Tensor:\n",
      " tensor([[0., 0., 0., 0., 0.],\n",
      "        [0., 0., 0., 0., 0.]])\n"
     ]
    }
   ],
   "source": [
    "t3 = torch.zeros((2, 5))\n",
    "print(\"\\n2x5 Zeros Tensor:\\n\", t3)"
   ]
  },
  {
   "cell_type": "code",
   "execution_count": 11,
   "id": "f6e6d9c5-eb7b-4922-bf48-c03efe564aab",
   "metadata": {},
   "outputs": [
    {
     "name": "stdout",
     "output_type": "stream",
     "text": [
      "\n",
      "Addition: tensor([5., 7., 9.])\n",
      "Subtraction: tensor([-3., -3., -3.])\n",
      "Element-wise Multiplication: tensor([ 4., 10., 18.])\n"
     ]
    }
   ],
   "source": [
    "A = torch.tensor([1, 2, 3], dtype=torch.float32)\n",
    "B = torch.tensor([4, 5, 6], dtype=torch.float32)\n",
    "\n",
    "# Addition\n",
    "add_result = A + B\n",
    "print(\"\\nAddition:\", add_result)\n",
    "\n",
    "# Subtraction\n",
    "sub_result = A - B\n",
    "print(\"Subtraction:\", sub_result)\n",
    "\n",
    "# Multiplication (element-wise)\n",
    "mul_result = A * B\n",
    "print(\"Element-wise Multiplication:\", mul_result)"
   ]
  },
  {
   "cell_type": "code",
   "execution_count": 13,
   "id": "6da264cf-8c19-45a0-9c3d-a9fb52ff8933",
   "metadata": {},
   "outputs": [
    {
     "name": "stdout",
     "output_type": "stream",
     "text": [
      "\n",
      "NumPy to PyTorch Tensor:\n",
      " tensor([[1, 2, 3],\n",
      "        [4, 5, 6]], dtype=torch.int32)\n",
      "\n",
      "NumPy to TensorFlow Tensor:\n",
      " tf.Tensor(\n",
      "[[1 2 3]\n",
      " [4 5 6]], shape=(2, 3), dtype=int32)\n"
     ]
    }
   ],
   "source": [
    "# Create NumPy array\n",
    "np_array = np.array([[1, 2, 3], [4, 5, 6]])\n",
    "\n",
    "# Convert NumPy → PyTorch\n",
    "torch_tensor = torch.from_numpy(np_array)\n",
    "print(\"\\nNumPy to PyTorch Tensor:\\n\", torch_tensor)\n",
    "\n",
    "# Convert NumPy → TensorFlow\n",
    "tf_tensor = tf.convert_to_tensor(np_array)\n",
    "print(\"\\nNumPy to TensorFlow Tensor:\\n\", tf_tensor)"
   ]
  },
  {
   "cell_type": "code",
   "execution_count": 15,
   "id": "33ab5994-65d2-469e-8484-bc2ebc9a3cd5",
   "metadata": {},
   "outputs": [
    {
     "name": "stdout",
     "output_type": "stream",
     "text": [
      "PyTorch tensor x: tensor(5., requires_grad=True)\n"
     ]
    }
   ],
   "source": [
    "import torch\n",
    "\n",
    "# Create tensor with value 5.0 and enable gradient tracking\n",
    "x = torch.tensor(5.0, requires_grad=True)\n",
    "print(\"PyTorch tensor x:\", x)\n"
   ]
  },
  {
   "cell_type": "code",
   "execution_count": 17,
   "id": "8ac0a31a-651a-46c7-aeae-1bcbc3d625da",
   "metadata": {},
   "outputs": [
    {
     "name": "stdout",
     "output_type": "stream",
     "text": [
      "PyTorch y: 42.0\n"
     ]
    }
   ],
   "source": [
    "# Step 1: Create tensor x with gradient tracking\n",
    "x = torch.tensor(5.0, requires_grad=True)\n",
    "\n",
    "# Step 2: Compute y = x^2 + 3x + 2\n",
    "y = x**2 + 3*x + 2\n",
    "print(\"PyTorch y:\", y.item())"
   ]
  },
  {
   "cell_type": "code",
   "execution_count": null,
   "id": "d5674e87-a43f-4fa9-952e-26826c10c3d3",
   "metadata": {},
   "outputs": [],
   "source": [
    "x = torch.tensor(5.0, requires_grad=True)\n",
    "\n",
    "# Define the function y = x^2 + 3x + 2\n",
    "y = x**2 + 3*x + 2\n",
    "\n",
    "# Compute gradient dy/dx\n",
    "y.backward()\n",
    "print(\"PyTorch dy/dx:\", x.grad.item())"
   ]
  }
 ],
 "metadata": {
  "kernelspec": {
   "display_name": "Python [conda env:base] *",
   "language": "python",
   "name": "conda-base-py"
  },
  "language_info": {
   "codemirror_mode": {
    "name": "ipython",
    "version": 3
   },
   "file_extension": ".py",
   "mimetype": "text/x-python",
   "name": "python",
   "nbconvert_exporter": "python",
   "pygments_lexer": "ipython3",
   "version": "3.12.7"
  }
 },
 "nbformat": 4,
 "nbformat_minor": 5
}
