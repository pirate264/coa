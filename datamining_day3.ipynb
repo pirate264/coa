{
 "cells": [
  {
   "cell_type": "code",
   "execution_count": 224,
   "id": "db3088da-148d-45e5-992b-72d6c7a6dd58",
   "metadata": {},
   "outputs": [],
   "source": [
    "import pandas as pd\n",
    "import numpy as np\n",
    "from sklearn.preprocessing import MinMaxScaler\n",
    "from sklearn.feature_selection import VarianceThreshold\n",
    "from sklearn.decomposition import PCA\n",
    "from sklearn.preprocessing import StandardScaler"
   ]
  },
  {
   "cell_type": "code",
   "execution_count": 226,
   "id": "bac407e4-e317-436e-a22c-e93d0b60303b",
   "metadata": {},
   "outputs": [
    {
     "name": "stdout",
     "output_type": "stream",
     "text": [
      "    Name   Age   Salary\n",
      "0  Alice  25.0  50000.0\n",
      "1    Bob   NaN  54000.0\n",
      "2    NaN  28.0      NaN\n",
      "3  David  35.0  58000.0\n",
      "4    NaN  22.0  60000.0\n",
      "5    Eva  30.0  62000.0\n",
      "6  Frank   NaN      NaN\n",
      "7  Grace  27.0  65000.0\n",
      "8  Harry  29.0  67000.0\n",
      "9    NaN  31.0      NaN\n"
     ]
    }
   ],
   "source": [
    "data = {\n",
    "    'Name': ['Alice', 'Bob', np.nan, 'David', np.nan, 'Eva', 'Frank', 'Grace', 'Harry', np.nan],\n",
    "    'Age': [25, np.nan, 28, 35, 22, 30, np.nan, 27, 29, 31],\n",
    "    'Salary': [50000, 54000, np.nan, 58000, 60000, 62000, np.nan, 65000, 67000, np.nan]\n",
    "}\n",
    "\n",
    "# b) Convert to DataFrame\n",
    "df = pd.DataFrame(data)\n",
    "print(df)"
   ]
  },
  {
   "cell_type": "code",
   "execution_count": 228,
   "id": "bcbde791-cafb-43b9-bb22-f481213a74a6",
   "metadata": {},
   "outputs": [
    {
     "name": "stdout",
     "output_type": "stream",
     "text": [
      "    Name     Age   Salary\n",
      "0  Alice  25.000  50000.0\n",
      "1    Bob  28.375  54000.0\n",
      "2    NaN  28.000      NaN\n",
      "3  David  35.000  58000.0\n",
      "4    NaN  22.000  60000.0\n",
      "5    Eva  30.000  62000.0\n",
      "6  Frank  28.375      NaN\n",
      "7  Grace  27.000  65000.0\n",
      "8  Harry  29.000  67000.0\n",
      "9    NaN  31.000      NaN\n"
     ]
    }
   ],
   "source": [
    "df['Age'] = df['Age'].fillna(df['Age'].mean())\n",
    "print (df)"
   ]
  },
  {
   "cell_type": "code",
   "execution_count": 230,
   "id": "e51c1520-5a59-46e3-997f-c6cd9a8817ca",
   "metadata": {},
   "outputs": [
    {
     "name": "stdout",
     "output_type": "stream",
     "text": [
      "    Name     Age   Salary\n",
      "0  Alice  25.000  50000.0\n",
      "1    Bob  28.375  54000.0\n",
      "3  David  35.000  58000.0\n",
      "5    Eva  30.000  62000.0\n",
      "6  Frank  28.375      NaN\n",
      "7  Grace  27.000  65000.0\n",
      "8  Harry  29.000  67000.0\n"
     ]
    }
   ],
   "source": [
    "df.dropna(subset=['Name'], inplace=True)\n",
    "print (df)"
   ]
  },
  {
   "cell_type": "code",
   "execution_count": 236,
   "id": "8aecc788-3656-441d-8d36-0ef2e04b32fb",
   "metadata": {},
   "outputs": [
    {
     "name": "stdout",
     "output_type": "stream",
     "text": [
      "Clean Data\n",
      "    Name     Age   Salary\n",
      "0  Alice  25.000  50000.0\n",
      "1    Bob  28.375  54000.0\n",
      "3  David  35.000  58000.0\n",
      "5    Eva  30.000  62000.0\n",
      "6  Frank  28.375  62000.0\n",
      "7  Grace  27.000  65000.0\n",
      "8  Harry  29.000  67000.0\n"
     ]
    }
   ],
   "source": [
    "df['Salary'] = df['Salary'].ffill()\n",
    "print(\"Clean Data\")\n",
    "print (df)"
   ]
  },
  {
   "cell_type": "code",
   "execution_count": 238,
   "id": "7d3ea332-cdcf-4298-b700-fa1802949ff5",
   "metadata": {},
   "outputs": [],
   "source": [
    "data = {\n",
    "    'ID': [101, 102, 103, 104, 105, 101, 102, 106, 107, 103],\n",
    "    'Score': [88, 92, 75, 85, 90, 88, 92, 95, 89, 75]\n",
    "}\n",
    "\n",
    "# b) Convert the dictionary into a DataFrame\n",
    "df = pd.DataFrame(data)"
   ]
  },
  {
   "cell_type": "code",
   "execution_count": 192,
   "id": "98df1dd0-e6d0-4859-826f-c4b9aa762844",
   "metadata": {},
   "outputs": [
    {
     "name": "stdout",
     "output_type": "stream",
     "text": [
      "DataFrame without duplicates based on 'ID':\n",
      "    ID  Score\n",
      "0  101     88\n",
      "1  102     92\n",
      "2  103     75\n",
      "3  104     85\n",
      "4  105     90\n",
      "7  106     95\n",
      "8  107     89\n"
     ]
    }
   ],
   "source": [
    "df_unique = df.drop_duplicates(subset='ID', keep='first')\n",
    "\n",
    "# d) Print the cleaned DataFrame\n",
    "print(\"DataFrame without duplicates based on 'ID':\")\n",
    "print(df_unique)"
   ]
  },
  {
   "cell_type": "code",
   "execution_count": 194,
   "id": "b6d0cb2e-c52d-4d86-aab1-f8187be27a76",
   "metadata": {},
   "outputs": [
    {
     "name": "stdout",
     "output_type": "stream",
     "text": [
      "Original DataFrame:\n",
      "   Salary Department  Revenue\n",
      "0   30000         HR     1000\n",
      "1   50000         IT     1200\n",
      "2   70000    Finance     5000\n",
      "3  100000         IT     8000\n",
      "4  150000         HR    15000\n"
     ]
    }
   ],
   "source": [
    "# Sample dataset\n",
    "data = {\n",
    "    'Salary': [30000, 50000, 70000, 100000, 150000],\n",
    "    'Department': ['HR', 'IT', 'Finance', 'IT', 'HR'],\n",
    "    'Revenue': [1000, 1200, 5000, 8000, 15000]\n",
    "}\n",
    "\n",
    "df = pd.DataFrame(data)\n",
    "print(\"Original DataFrame:\")\n",
    "print(df)"
   ]
  },
  {
   "cell_type": "code",
   "execution_count": 196,
   "id": "5116ca2a-f6a4-4526-9821-63a1b0ce180f",
   "metadata": {},
   "outputs": [
    {
     "name": "stdout",
     "output_type": "stream",
     "text": [
      "   Salary Department  Revenue  Normalized_Salary\n",
      "0   30000         HR     1000           0.000000\n",
      "1   50000         IT     1200           0.166667\n",
      "2   70000    Finance     5000           0.333333\n",
      "3  100000         IT     8000           0.583333\n",
      "4  150000         HR    15000           1.000000\n"
     ]
    }
   ],
   "source": [
    "scaler = MinMaxScaler()\n",
    "df['Normalized_Salary'] = scaler.fit_transform(df[['Salary']])\n",
    "print (df)"
   ]
  },
  {
   "cell_type": "code",
   "execution_count": 198,
   "id": "115e8820-7c2f-4f2b-a68a-4d855ffbd6b4",
   "metadata": {},
   "outputs": [
    {
     "name": "stdout",
     "output_type": "stream",
     "text": [
      "   Salary  Revenue  Normalized_Salary  Dept_Finance  Dept_HR  Dept_IT\n",
      "0   30000     1000           0.000000         False     True    False\n",
      "1   50000     1200           0.166667         False    False     True\n",
      "2   70000     5000           0.333333          True    False    False\n",
      "3  100000     8000           0.583333         False    False     True\n",
      "4  150000    15000           1.000000         False     True    False\n"
     ]
    }
   ],
   "source": [
    "df_encoded = pd.get_dummies(df, columns=['Department'], prefix='Dept')\n",
    "print (df_encoded)"
   ]
  },
  {
   "cell_type": "code",
   "execution_count": 200,
   "id": "a683fe82-6359-4815-b88c-4cd9a01f525b",
   "metadata": {},
   "outputs": [
    {
     "name": "stdout",
     "output_type": "stream",
     "text": [
      "   Salary  Revenue  Normalized_Salary  Dept_Finance  Dept_HR  Dept_IT  \\\n",
      "0   30000     1000           0.000000         False     True    False   \n",
      "1   50000     1200           0.166667         False    False     True   \n",
      "2   70000     5000           0.333333          True    False    False   \n",
      "3  100000     8000           0.583333         False    False     True   \n",
      "4  150000    15000           1.000000         False     True    False   \n",
      "\n",
      "   Log_Revenue  \n",
      "0     6.908755  \n",
      "1     7.090910  \n",
      "2     8.517393  \n",
      "3     8.987322  \n",
      "4     9.615872  \n"
     ]
    }
   ],
   "source": [
    "df_encoded['Log_Revenue'] = np.log(df_encoded['Revenue'] + 1)  \n",
    "print (df_encoded)"
   ]
  },
  {
   "cell_type": "code",
   "execution_count": 202,
   "id": "f0237605-2498-4c4d-856d-86db9798009b",
   "metadata": {},
   "outputs": [
    {
     "name": "stdout",
     "output_type": "stream",
     "text": [
      "Original Data:\n",
      "   F1  F2  F3 Category  Score\n",
      "0   1   1   2        A     10\n",
      "1   1   2   4        B     20\n",
      "2   1   3   6        A     30\n",
      "3   1   4   8        B     40\n",
      "4   1   5  10        A     50\n"
     ]
    }
   ],
   "source": [
    "data = {\n",
    "    'F1': [1, 1, 1, 1, 1],               # Low variance\n",
    "    'F2': [1, 2, 3, 4, 5],               # High variance\n",
    "    'F3': [2, 4, 6, 8, 10],              # High variance\n",
    "    'Category': ['A', 'B', 'A', 'B', 'A'],\n",
    "    'Score': [10, 20, 30, 40, 50]\n",
    "}\n",
    "df = pd.DataFrame(data)\n",
    "print(\"Original Data:\")\n",
    "print(df)"
   ]
  },
  {
   "cell_type": "code",
   "execution_count": 204,
   "id": "8e4a80e3-0484-4182-8942-8a065ee4bac6",
   "metadata": {},
   "outputs": [
    {
     "name": "stdout",
     "output_type": "stream",
     "text": [
      "\n",
      "After Variance Threshold:\n",
      "   F2  F3\n",
      "0   1   2\n",
      "1   2   4\n",
      "2   3   6\n",
      "3   4   8\n",
      "4   5  10\n"
     ]
    }
   ],
   "source": [
    "features = df[['F1', 'F2', 'F3']]\n",
    "selector = VarianceThreshold(threshold=0.0)\n",
    "selected = selector.fit_transform(features)\n",
    "selected_cols = features.columns[selector.get_support()]\n",
    "df_selected = pd.DataFrame(selected, columns=selected_cols)\n",
    "print(\"\\nAfter Variance Threshold:\")\n",
    "print(df_selected)"
   ]
  },
  {
   "cell_type": "code",
   "execution_count": 206,
   "id": "6063b1b8-38e9-4f42-90f4-1799a787a79b",
   "metadata": {},
   "outputs": [
    {
     "name": "stdout",
     "output_type": "stream",
     "text": [
      "\n",
      "After PCA (2 components):\n",
      "   PC1           PC2\n",
      "0 -2.0  1.489520e-16\n",
      "1 -1.0 -4.965068e-17\n",
      "2  0.0  0.000000e+00\n",
      "3  1.0  4.965068e-17\n",
      "4  2.0  9.930137e-17\n"
     ]
    }
   ],
   "source": [
    "scaler = StandardScaler()\n",
    "scaled = scaler.fit_transform(df_selected)\n",
    "\n",
    "pca = PCA(n_components=2)\n",
    "df_pca = pd.DataFrame(pca.fit_transform(scaled), columns=['PC1', 'PC2'])\n",
    "print(\"\\nAfter PCA (2 components):\")\n",
    "print(df_pca)"
   ]
  },
  {
   "cell_type": "code",
   "execution_count": 208,
   "id": "26fac3ec-e98e-468c-b2e6-2aa19d928d94",
   "metadata": {},
   "outputs": [
    {
     "name": "stdout",
     "output_type": "stream",
     "text": [
      "\n",
      "After Aggregation (Group by Category):\n",
      "  Category   F1   F2   F3  Score  Mean_Score\n",
      "0        A  1.0  3.0  6.0   30.0        30.0\n",
      "1        B  1.0  3.0  6.0   30.0        30.0\n"
     ]
    }
   ],
   "source": [
    "df['Mean_Score'] = df['Score']\n",
    "df_agg = df.groupby('Category').mean(numeric_only=True).reset_index()\n",
    "print(\"\\nAfter Aggregation (Group by Category):\")\n",
    "print(df_agg)"
   ]
  },
  {
   "cell_type": "code",
   "execution_count": null,
   "id": "7c17040c-6101-4735-9c90-59495807080a",
   "metadata": {},
   "outputs": [],
   "source": []
  }
 ],
 "metadata": {
  "kernelspec": {
   "display_name": "Python [conda env:base] *",
   "language": "python",
   "name": "conda-base-py"
  },
  "language_info": {
   "codemirror_mode": {
    "name": "ipython",
    "version": 3
   },
   "file_extension": ".py",
   "mimetype": "text/x-python",
   "name": "python",
   "nbconvert_exporter": "python",
   "pygments_lexer": "ipython3",
   "version": "3.12.7"
  }
 },
 "nbformat": 4,
 "nbformat_minor": 5
}
